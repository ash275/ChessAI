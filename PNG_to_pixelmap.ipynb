{
 "cells": [
  {
   "cell_type": "code",
   "execution_count": 6,
   "metadata": {},
   "outputs": [],
   "source": [
    "from PIL import Image"
   ]
  },
  {
   "cell_type": "code",
   "execution_count": 7,
   "metadata": {},
   "outputs": [],
   "source": [
    "\n",
    "filename = \"/home/alan/Documents/GLChess/printerw.cpp\"\n",
    "f = open(filename,\"a\")\n",
    "\n",
    "flist = list()\n",
    "flist.clear()\n",
    "flist.append(\"/home/alan/Documents/GLChess/wikipedia/wK.png\");\n",
    "flist.append(\"/home/alan/Documents/GLChess/wikipedia/wQ.png\");\n",
    "flist.append(\"/home/alan/Documents/GLChess/wikipedia/wB.png\");\n",
    "flist.append(\"/home/alan/Documents/GLChess/wikipedia/wR.png\");\n",
    "flist.append(\"/home/alan/Documents/GLChess/wikipedia/wN.png\");\n",
    "flist.append(\"/home/alan/Documents/GLChess/wikipedia/wP.png\");\n",
    "f.write(\"#include <GL/glut.h>\\n#include <bits/stdc++.h>\\nusing namespace std;\\n\")\n",
    "for filename2 in flist:\n",
    "    image = Image.open(filename2)\n",
    "    f.write(\"void draw\"+filename2[-6:-4]+\" (int x , int y ){\\n\")\n",
    "    f.write(\"glBegin(GL_POINTS);\\n\")\n",
    "    for x in range(0,80):\n",
    "        for y in range(0,80):\n",
    "            coordinate = x,y\n",
    "            pdata = image.getpixel(coordinate)\n",
    "            y2 = 80 - y\n",
    "            if pdata[3] != 0:\n",
    "                f.write(\"\\tglColor3f(\"+str(pdata[0])+\".0,\"+str(pdata[1])+\".0,\"+str(pdata[2])+\".0);\\n\")\n",
    "                f.write(\"\\tglVertex2i(x+\"+str(x)+\",y+\"+str(y2)+\");\\n\")\n",
    "    f.write(\"glEnd();\\n\")\n",
    "    f.write(\"glFlush();\\n}\\n\");\n",
    "f.close()"
   ]
  },
  {
   "cell_type": "code",
   "execution_count": null,
   "metadata": {},
   "outputs": [],
   "source": []
  },
  {
   "cell_type": "code",
   "execution_count": null,
   "metadata": {},
   "outputs": [],
   "source": []
  }
 ],
 "metadata": {
  "kernelspec": {
   "display_name": "Python 3",
   "language": "python",
   "name": "python3"
  },
  "language_info": {
   "codemirror_mode": {
    "name": "ipython",
    "version": 3
   },
   "file_extension": ".py",
   "mimetype": "text/x-python",
   "name": "python",
   "nbconvert_exporter": "python",
   "pygments_lexer": "ipython3",
   "version": "3.7.1"
  }
 },
 "nbformat": 4,
 "nbformat_minor": 2
}
